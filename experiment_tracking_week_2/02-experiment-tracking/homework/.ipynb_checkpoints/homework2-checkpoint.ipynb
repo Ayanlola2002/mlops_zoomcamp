{
 "cells": [
  {
   "cell_type": "code",
   "execution_count": 1,
   "id": "b7410fc3",
   "metadata": {},
   "outputs": [],
   "source": [
    "import mlflow"
   ]
  },
  {
   "cell_type": "markdown",
   "id": "fecdebe7",
   "metadata": {},
   "source": [
    "Question 1 : The mlflow version is \n",
    "mlflow, version 1.26.1"
   ]
  },
  {
   "cell_type": "code",
   "execution_count": 2,
   "id": "ab6619d5",
   "metadata": {},
   "outputs": [
    {
     "name": "stdout",
     "output_type": "stream",
     "text": [
      "mlflow, version 1.26.1\r\n"
     ]
    }
   ],
   "source": [
    "! mlflow --version"
   ]
  },
  {
   "cell_type": "markdown",
   "id": "2b12f3dd",
   "metadata": {},
   "source": [
    "Question 2 \n",
    "How many files were saved to OUTPUT_FOLDER?\n",
    "The number of files found in the output folder is 4\n",
    "output:\n",
    "dv.pkl\ttest.pkl  train.pkl  valid.pkl"
   ]
  },
  {
   "cell_type": "code",
   "execution_count": 18,
   "id": "43df1332",
   "metadata": {},
   "outputs": [
    {
     "name": "stdout",
     "output_type": "stream",
     "text": [
      "dv.pkl\ttest.pkl  train.pkl  valid.pkl\r\n"
     ]
    }
   ],
   "source": [
    "!dir \"output\" "
   ]
  },
  {
   "cell_type": "markdown",
   "id": "e195b776",
   "metadata": {},
   "source": [
    "Q3. Train a model with autolog\n",
    "How many parameters are automatically logged by MLflow?\n",
    "The number of parameters logged is  17"
   ]
  },
  {
   "cell_type": "code",
   "execution_count": 4,
   "id": "4cb24a7e",
   "metadata": {},
   "outputs": [
    {
     "name": "stdout",
     "output_type": "stream",
     "text": [
      "2022/05/30 11:06:21 INFO mlflow.tracking.fluent: Experiment with name 'nyc-taxi-experiment' does not exist. Creating a new experiment.\n",
      "2022/05/30 11:06:48 WARNING mlflow.utils.autologging_utils: MLflow autologging encountered a warning: \"/home/ayanlola/anaconda3/envs/exp-track-env/lib/python3.9/site-packages/_distutils_hack/__init__.py:30: UserWarning: Setuptools is replacing distutils.\"\n"
     ]
    }
   ],
   "source": [
    "!python train.py --data_path output"
   ]
  },
  {
   "cell_type": "code",
   "execution_count": 5,
   "id": "c76bd38d",
   "metadata": {},
   "outputs": [],
   "source": [
    "client = mlflow.tracking.MlflowClient(tracking_uri = 'sqlite:///mlflow.db')\n",
    "experiment = client.get_experiment_by_name('nyc-taxi-experiment')\n",
    "runs = client.search_runs(1)"
   ]
  },
  {
   "cell_type": "code",
   "execution_count": 17,
   "id": "d4535d2e",
   "metadata": {},
   "outputs": [
    {
     "name": "stdout",
     "output_type": "stream",
     "text": [
      "The number of parameters logged is  17\n"
     ]
    }
   ],
   "source": [
    "print('The number of parameters logged is ', len(runs[0].data.params))"
   ]
  },
  {
   "cell_type": "markdown",
   "id": "07b14982",
   "metadata": {},
   "source": [
    "Q4. Launch the tracking server locally\n",
    "Ans :default-artifact-root"
   ]
  },
  {
   "cell_type": "markdown",
   "id": "d731156d",
   "metadata": {},
   "source": [
    "Q5. Tune the hyperparameters of the model\n",
    "What's the best validation RMSE that you got?\n",
    "The best validation rmse is : (6.6284257482044735,)"
   ]
  },
  {
   "cell_type": "code",
   "execution_count": 7,
   "id": "40e7dea9",
   "metadata": {},
   "outputs": [
    {
     "name": "stdout",
     "output_type": "stream",
     "text": [
      "2022/05/30 11:25:53 INFO mlflow.tracking.fluent: Experiment with name 'random-forest-hyperopt' does not exist. Creating a new experiment.\n",
      "100%|█████████| 50/50 [09:09<00:00, 10.99s/trial, best loss: 6.6284257482044735]\n"
     ]
    }
   ],
   "source": [
    "!python hpo.py"
   ]
  },
  {
   "cell_type": "code",
   "execution_count": 8,
   "id": "2c3bd5ec",
   "metadata": {},
   "outputs": [],
   "source": [
    "best_run = client.search_runs(\n",
    "  experiment_ids = 2, \n",
    "  run_view_type= mlflow.entities.ViewType.ACTIVE_ONLY,\n",
    "  max_results=1,\n",
    "  order_by=[\"metrics.rmse ASC\"]\n",
    ")\n"
   ]
  },
  {
   "cell_type": "code",
   "execution_count": 9,
   "id": "9e72bdf7",
   "metadata": {},
   "outputs": [
    {
     "name": "stdout",
     "output_type": "stream",
     "text": [
      "The best validation rmse is : (6.6284257482044735,)\n"
     ]
    }
   ],
   "source": [
    "print('The best validation rmse is :', (best_run[0].data.metrics['rmse'], ))"
   ]
  },
  {
   "cell_type": "markdown",
   "id": "e5198261",
   "metadata": {},
   "source": [
    "Q6. Promote the best model to the model registry\n",
    "What is the test RMSE of the best model?\n",
    "The best run test is 6.547886185595423"
   ]
  },
  {
   "cell_type": "code",
   "execution_count": 10,
   "id": "40a6003d",
   "metadata": {},
   "outputs": [
    {
     "name": "stdout",
     "output_type": "stream",
     "text": [
      "2022/05/30 11:49:02 INFO mlflow.tracking.fluent: Experiment with name 'random-forest-best-models' does not exist. Creating a new experiment.\n",
      "2022/05/30 11:49:25 WARNING mlflow.utils.autologging_utils: MLflow autologging encountered a warning: \"/home/ayanlola/anaconda3/envs/exp-track-env/lib/python3.9/site-packages/_distutils_hack/__init__.py:30: UserWarning: Setuptools is replacing distutils.\"\n",
      "Successfully registered model 'Best_RandomForestRegressor_BasedOn_202103_testdata'.\n",
      "2022/05/30 11:51:06 INFO mlflow.tracking._model_registry.client: Waiting up to 300 seconds for model version to finish creation.                     Model name: Best_RandomForestRegressor_BasedOn_202103_testdata, version 1\n",
      "Created version '1' of model 'Best_RandomForestRegressor_BasedOn_202103_testdata'.\n"
     ]
    }
   ],
   "source": [
    "!python register_model.py"
   ]
  },
  {
   "cell_type": "code",
   "execution_count": 19,
   "id": "dcc3cefa",
   "metadata": {},
   "outputs": [],
   "source": [
    "best_test = client.search_runs(\n",
    "  experiment_ids = 3, \n",
    "  run_view_type= mlflow.entities.ViewType.ACTIVE_ONLY,\n",
    "  max_results=1,\n",
    "  order_by=[\"metrics.test_rmse ASC\"]\n",
    ")\n",
    "\n"
   ]
  },
  {
   "cell_type": "code",
   "execution_count": 20,
   "id": "b92f1c90",
   "metadata": {},
   "outputs": [
    {
     "name": "stdout",
     "output_type": "stream",
     "text": [
      "The best run test is 6.547886185595423\n"
     ]
    }
   ],
   "source": [
    "print(\"The best run test is\",best_test[0].data.metrics['test_rmse'])"
   ]
  },
  {
   "cell_type": "code",
   "execution_count": null,
   "id": "ec0fb913",
   "metadata": {},
   "outputs": [],
   "source": []
  }
 ],
 "metadata": {
  "kernelspec": {
   "display_name": "Python 3 (ipykernel)",
   "language": "python",
   "name": "python3"
  },
  "language_info": {
   "codemirror_mode": {
    "name": "ipython",
    "version": 3
   },
   "file_extension": ".py",
   "mimetype": "text/x-python",
   "name": "python",
   "nbconvert_exporter": "python",
   "pygments_lexer": "ipython3",
   "version": "3.9.12"
  }
 },
 "nbformat": 4,
 "nbformat_minor": 5
}
